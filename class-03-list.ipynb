{
 "cells": [
  {
   "cell_type": "markdown",
   "metadata": {},
   "source": [
    "# list\n",
    "# A list is a collection of items in a particular order. You can make a list that includes the letters of the alphabet, the digits from 0-9, or the names of all the people in your family. You can put anything you want into a list, and the items in your list don't have to be related in any way. Lists allow you to store sets of information in one place, whether you have just a few items or millions of items.\n",
    "# \n",
    "# In Python, square brackets ([]) indicate a list, and individual elements in the list are separated by commas.\n",
    "# \n",
    "# Example:\n",
    "# ```python\n",
    "# bicycles = ['trek', 'cannondale', 'redline', 'specialized']\n",
    "# ```\n"
   ]
  },
  {
   "cell_type": "markdown",
   "metadata": {},
   "source": [
    "# append\n",
    "## How would you add 21 to the list below?\n",
    "\n",
    "numbers = [11,51,98,26]\n",
    "numbers.____(21)"
   ]
  },
  {
   "cell_type": "code",
   "execution_count": 3,
   "metadata": {},
   "outputs": [
    {
     "name": "stdout",
     "output_type": "stream",
     "text": [
      "None\n",
      "[1, 2, 3, 5, 8, 11, 22]\n"
     ]
    }
   ],
   "source": [
    "num = [1,2,5,8,11]\n",
    "num.append(22)\n",
    "print(num.insert(2,3)) # index number, value\n",
    "print(num)"
   ]
  },
  {
   "cell_type": "code",
   "execution_count": 6,
   "metadata": {},
   "outputs": [
    {
     "name": "stdout",
     "output_type": "stream",
     "text": [
      "['banana', 'apple', 'strawberry', 'cherry', 'grapes', 'peach']\n"
     ]
    }
   ],
   "source": [
    "fruits = ['apple', 'strawberry', 'cherry', 'grapes', 'peach']\n",
    "fruits.insert(0,'orange') # at 0 there is orange\n",
    "fruits[0] = 'banana'\n",
    "print(fruits)"
   ]
  },
  {
   "cell_type": "code",
   "execution_count": 11,
   "metadata": {},
   "outputs": [
    {
     "name": "stdout",
     "output_type": "stream",
     "text": [
      "['apple', 'strawberry', 'cherry', 'grapes', 'peach']\n",
      "['apple', 'strawberry', 'cherry', 'grapes', 'peach', 'milon', 'kiwi', 'berry', 'mango']\n"
     ]
    }
   ],
   "source": [
    "fruits = ['apple', 'strawberry', 'cherry', 'grapes', 'peach']\n",
    "more_fruits = [ 'milon', 'kiwi', 'berry']\n",
    "#fruits.append(more_fruits)\n",
    "print(fruits)\n",
    "fruits.extend(['milon', 'kiwi', 'berry','mango'])\n",
    "print(fruits)\n"
   ]
  },
  {
   "cell_type": "code",
   "execution_count": 1,
   "metadata": {},
   "outputs": [
    {
     "name": "stdout",
     "output_type": "stream",
     "text": [
      "[11, 22, 32, 12, 21]\n"
     ]
    }
   ],
   "source": [
    "numbers = [11,22,32,12]\n",
    "numbers.append(21)\n",
    "print(numbers)"
   ]
  },
  {
   "cell_type": "markdown",
   "metadata": {},
   "source": [
    "# len\n",
    "Sometimes you need to count the total number of elements in a list. The total number of elements in a list is called length of the list.\n",
    "To know the length of your friends list, you will use a special leyword len. This len keyword is a short form of length."
   ]
  },
  {
   "cell_type": "code",
   "execution_count": 12,
   "metadata": {},
   "outputs": [
    {
     "name": "stdout",
     "output_type": "stream",
     "text": [
      "5\n"
     ]
    }
   ],
   "source": [
    "friends = [\"Batman\",\"Super Man\",\"Rat Man\",\"Fat Man\",\"Spider Man\"]\n",
    "count = len(friends)\n",
    "print(count)"
   ]
  },
  {
   "cell_type": "code",
   "execution_count": 14,
   "metadata": {},
   "outputs": [
    {
     "name": "stdout",
     "output_type": "stream",
     "text": [
      "[2, 4, 6, 8, 10, 12, 14, 16, 18]\n",
      "[2, 4, 6, 8, 10, 12, 14, 16, 18, 22]\n"
     ]
    }
   ],
   "source": [
    "even_nums = [2,4,6,8]\n",
    "even_nums.extend([10,12,14,16,18])\n",
    "print(even_nums)\n",
    "even_nums.append(22)\n",
    "print(even_nums)"
   ]
  },
  {
   "cell_type": "code",
   "execution_count": 16,
   "metadata": {},
   "outputs": [
    {
     "name": "stdout",
     "output_type": "stream",
     "text": [
      "[2, 4, 6, 8, 10, 12, 14, 16, 18, 22, 1, 3, 5, 9, 1, 3, 5, 9]\n"
     ]
    }
   ],
   "source": [
    "odd_nums = [1,3,5,9]\n",
    "even_nums.extend(odd_nums)\n",
    "print(even_nums)\n"
   ]
  },
  {
   "cell_type": "code",
   "execution_count": 20,
   "metadata": {},
   "outputs": [
    {
     "name": "stdout",
     "output_type": "stream",
     "text": [
      "[0, 1, 2, 3, 4, 0, 5, 6, 7, 8, 9]\n"
     ]
    }
   ],
   "source": [
    "numbers = list(range(0,10))\n",
    "numbers.insert(5,0)\n",
    "print(numbers)"
   ]
  },
  {
   "cell_type": "code",
   "execution_count": 21,
   "metadata": {},
   "outputs": [
    {
     "name": "stdout",
     "output_type": "stream",
     "text": [
      "['a', 'b', 'c', 'd', 'e', 'f', 'g', 'h', 'i', 'j', 'k']\n"
     ]
    }
   ],
   "source": [
    "alphabets = \"abcdefghijk\"\n",
    "print(list(alphabets))"
   ]
  },
  {
   "cell_type": "code",
   "execution_count": 33,
   "metadata": {},
   "outputs": [
    {
     "name": "stdout",
     "output_type": "stream",
     "text": [
      "[5, 6, 7, 8, 9, 10, 11, 12, 13, 14, 15, 16, 17, 18, 19]\n",
      "[0, 2, 4, 6, 8]\n",
      "[3, 5, 7, 9, 11, 13]\n"
     ]
    }
   ],
   "source": [
    "numbers = list(range(5,20))\n",
    "print(numbers)\n",
    "even_numbers = list(range(0,10,2))\n",
    "print(even_numbers)\n",
    "odd_numbers = list(range(3,15,2))\n",
    "print(odd_numbers)"
   ]
  },
  {
   "cell_type": "markdown",
   "metadata": {},
   "source": [
    "# remove\n",
    "If you want anyone from your friend list, you will use the remove keyword"
   ]
  },
  {
   "cell_type": "code",
   "execution_count": 3,
   "metadata": {},
   "outputs": [
    {
     "name": "stdout",
     "output_type": "stream",
     "text": [
      "['Batman', 'Super Man', 'Rat Man', 'Spider Man']\n"
     ]
    }
   ],
   "source": [
    "friends.remove(\"Fat Man\")\n",
    "print(friends)"
   ]
  },
  {
   "cell_type": "code",
   "execution_count": 35,
   "metadata": {},
   "outputs": [
    {
     "name": "stdout",
     "output_type": "stream",
     "text": [
      "['Talha', 'madiha khan', 'Horain']\n",
      "['kaneez fatima', 'Talha', 'madiha khan', 'Horain']\n"
     ]
    }
   ],
   "source": [
    "employees = ['Talha', \"kaneez fatima\",\"madiha khan\", \"Horain\"]\n",
    "employees.remove(\"kaneez fatima\")\n",
    "print(employees)\n",
    "employees.insert(0,\"kaneez fatima\")\n",
    "print(employees)"
   ]
  },
  {
   "cell_type": "markdown",
   "metadata": {},
   "source": [
    "# min element\n",
    "If you want to get the lowest number in a list. you can just call min and then in the parenthesis put the name of the list."
   ]
  },
  {
   "cell_type": "code",
   "execution_count": 4,
   "metadata": {},
   "outputs": [
    {
     "name": "stdout",
     "output_type": "stream",
     "text": [
      "10\n"
     ]
    }
   ],
   "source": [
    "nums = [12,35,78,45,10]\n",
    "print(min(nums))"
   ]
  },
  {
   "cell_type": "code",
   "execution_count": 36,
   "metadata": {},
   "outputs": [
    {
     "name": "stdout",
     "output_type": "stream",
     "text": [
      "-20\n"
     ]
    }
   ],
   "source": [
    "nos = [ 111, -20, -9, 1000, 120]\n",
    "min_no = min(nos)\n",
    "print(min_no)"
   ]
  },
  {
   "cell_type": "markdown",
   "metadata": {},
   "source": [
    "# max element\n",
    "Similarly, you can use max to get the highest number of your list."
   ]
  },
  {
   "cell_type": "code",
   "execution_count": 5,
   "metadata": {},
   "outputs": [
    {
     "name": "stdout",
     "output_type": "stream",
     "text": [
      "78\n"
     ]
    }
   ],
   "source": [
    "print(max(nums))"
   ]
  },
  {
   "cell_type": "code",
   "execution_count": 37,
   "metadata": {},
   "outputs": [
    {
     "name": "stdout",
     "output_type": "stream",
     "text": [
      "1000\n"
     ]
    }
   ],
   "source": [
    "nos = [ 111, -20, -9, 1000, 120]\n",
    "max_nos = max(nos)\n",
    "print(max_nos)"
   ]
  },
  {
   "cell_type": "markdown",
   "metadata": {},
   "source": [
    "# Element Exists\n",
    "If you want to know whether an element exists in a list, you can use the in keyword.\n",
    "To use the in keyword, first write the element name you want to check, then in and then the name of the list.\n",
    "If the element exists in the list, you will get True.\n",
    "Otherwise you will get false."
   ]
  },
  {
   "cell_type": "code",
   "execution_count": 8,
   "metadata": {},
   "outputs": [
    {
     "name": "stdout",
     "output_type": "stream",
     "text": [
      "True\n",
      "True\n"
     ]
    }
   ],
   "source": [
    "friends = [\"sana\",\"sara\",\"sofia\",\"sadia\"]\n",
    "print(\"sonia\" not in friends)\n",
    "print(\"sara\" in friends)"
   ]
  },
  {
   "cell_type": "code",
   "execution_count": 39,
   "metadata": {},
   "outputs": [
    {
     "name": "stdout",
     "output_type": "stream",
     "text": [
      "False\n",
      "True\n"
     ]
    }
   ],
   "source": [
    "nos = [ 111, -20, -9, 1000, 120]\n",
    "exist_no = 3 in nos\n",
    "print(exist_no)\n",
    "not_exist = 5 not in nos\n",
    "print(not_exist)"
   ]
  },
  {
   "cell_type": "markdown",
   "metadata": {},
   "source": [
    "# Concat lists\n",
    "If you want to combine two lists. You can just use the plus (+) like below"
   ]
  },
  {
   "cell_type": "code",
   "execution_count": 9,
   "metadata": {},
   "outputs": [
    {
     "name": "stdout",
     "output_type": "stream",
     "text": [
      "[1, 2, 3, 4, 5, 6, 7, 8, 9, 10]\n"
     ]
    }
   ],
   "source": [
    "first_nums = [1,2,3,4,5]\n",
    "second_nums = [6,7,8,9,10]\n",
    "all_nums = first_nums + second_nums\n",
    "print(all_nums) "
   ]
  },
  {
   "cell_type": "code",
   "execution_count": 40,
   "metadata": {},
   "outputs": [
    {
     "name": "stdout",
     "output_type": "stream",
     "text": [
      "['apple', 'banana', 'orange', 'potato', 'tomato', 'onion']\n"
     ]
    }
   ],
   "source": [
    "fruits = ['apple','banana','orange']\n",
    "vegetables = ['potato','tomato','onion']\n",
    "concat = fruits + vegetables\n",
    "print(concat)"
   ]
  },
  {
   "cell_type": "markdown",
   "metadata": {},
   "source": [
    "# pop\n",
    "Sometimes you might want to kick out the last element of a list. It's super easy.\n",
    "Just write the name of the list and then type pop with two brackets. like below"
   ]
  },
  {
   "cell_type": "code",
   "execution_count": 10,
   "metadata": {},
   "outputs": [
    {
     "name": "stdout",
     "output_type": "stream",
     "text": [
      "[5, 17, 18, 24]\n"
     ]
    }
   ],
   "source": [
    "nums = [5,17,18,24,17]\n",
    "nums.pop()\n",
    "print(nums)"
   ]
  },
  {
   "cell_type": "code",
   "execution_count": 44,
   "metadata": {},
   "outputs": [
    {
     "name": "stdout",
     "output_type": "stream",
     "text": [
      "watermilon\n",
      "['banana', 'mango']\n",
      "['mango']\n",
      "None\n"
     ]
    }
   ],
   "source": [
    "summer_fruit = ['banana','mango','watermilon']\n",
    "summer_del = summer_fruit.pop()\n",
    "print(summer_del)\n",
    "print(summer_fruit)\n",
    "remove = summer_fruit.remove('banana')\n",
    "print(summer_fruit)\n",
    "print(remove)"
   ]
  },
  {
   "cell_type": "markdown",
   "metadata": {},
   "source": [
    "# List Sort"
   ]
  },
  {
   "cell_type": "code",
   "execution_count": 45,
   "metadata": {},
   "outputs": [
    {
     "name": "stdout",
     "output_type": "stream",
     "text": [
      "Original list: [5, 2, 8, 1, 9, 3]\n",
      "Sorted list (ascending): [1, 2, 3, 5, 8, 9]\n",
      "\n",
      "Original fruits list: ['banana', 'apple', 'orange', 'mango']\n",
      "Sorted fruits list: ['apple', 'banana', 'mango', 'orange']\n",
      "Sorted fruits list (descending): ['orange', 'mango', 'banana', 'apple']\n",
      "sorted vegetables list: ['bottle gourd', 'ladyfinger', 'onion', 'pompkin', 'potato', 'tomato']\n"
     ]
    }
   ],
   "source": [
    "# Create a list of numbers in random order\n",
    "numbers = [5, 2, 8, 1, 9, 3]\n",
    "print(\"Original list:\", numbers)\n",
    "\n",
    "# Sort the list in ascending order\n",
    "numbers.sort()\n",
    "print(\"Sorted list (ascending):\", numbers)\n",
    "\n",
    "# Create a list of strings\n",
    "fruits = [\"banana\", \"apple\", \"orange\", \"mango\"]\n",
    "print(\"\\nOriginal fruits list:\", fruits)\n",
    "\n",
    "# Sort alphabetically\n",
    "fruits.sort()\n",
    "print(\"Sorted fruits list:\", fruits)\n",
    "\n",
    "# Sort in descending order using reverse=True\n",
    "fruits.sort(reverse=True)\n",
    "print(\"Sorted fruits list (descending):\", fruits)\n",
    "\n",
    "vegetables = [\"potato\",\"onion\",\"tomato\",\"pompkin\",\"ladyfinger\",\"bottle gourd\"]\n",
    "vegetables.sort()\n",
    "print(\"sorted vegetables list:\", vegetables)\n"
   ]
  },
  {
   "cell_type": "code",
   "execution_count": 47,
   "metadata": {},
   "outputs": [
    {
     "name": "stdout",
     "output_type": "stream",
     "text": [
      "[9, 8, 7, 6, 5, 4, 3, 2, 1, 0]\n"
     ]
    }
   ],
   "source": [
    "nums = list(range(0,10))\n",
    "reverse=nums.sort(reverse=True)\n",
    "print(nums)"
   ]
  },
  {
   "cell_type": "markdown",
   "metadata": {},
   "source": [
    "# List Range"
   ]
  },
  {
   "cell_type": "code",
   "execution_count": 55,
   "metadata": {},
   "outputs": [
    {
     "name": "stdout",
     "output_type": "stream",
     "text": [
      "List with range (5): [0, 1, 2, 3, 4]\n",
      "list start with 2 and end with 5-1 [2, 3, 4]\n",
      "List with range(2,8): [2, 3, 4, 5, 6, 7]\n",
      "List with range(0,10,2): [0, 2, 4, 6, 8]\n",
      "List with range(20,0,4): []\n",
      "reverse or descending order of list (25,5,-5) [25, 20, 15, 10]\n"
     ]
    }
   ],
   "source": [
    "# Create a list using range() function\n",
    "numbers = list(range(5))  # Creates list [0,1,2,3,4]\n",
    "print(\"List with range (5):\", numbers)\n",
    "numbers_range = list(range(2,5))\n",
    "print(\"list start with 2 and end with 5-1\",numbers_range)\n",
    "\n",
    "# Create a list with start and end values\n",
    "numbers2 = list(range(2, 8))  # Creates list [2,3,4,5,6,7]\n",
    "print(\"List with range(2,8):\", numbers2)\n",
    "\n",
    "# Create a list with start, end and step values\n",
    "numbers3 = list(range(0, 10, 2))  # Creates list [0,2,4,6,8]\n",
    "print(\"List with range(0,10,2):\", numbers3)\n",
    "\n",
    "# Create a list with negative step (counting down)\n",
    "numbers4 = list(range(20,0,4))# [24] not exist --> []\n",
    "print(\"List with range(20,0,4):\", numbers4)\n",
    "number5 = list(range(25,5,-5))\n",
    "print(\"reverse or descending order of list (25,5,-5)\",number5)\n"
   ]
  },
  {
   "cell_type": "code",
   "execution_count": 67,
   "metadata": {},
   "outputs": [
    {
     "name": "stdout",
     "output_type": "stream",
     "text": [
      "[2, 8, 7]\n",
      "[9, 7, 5, 8, 6, 2]\n",
      "[9, 5, 6]\n",
      "[7, 6]\n"
     ]
    }
   ],
   "source": [
    "numbers = [2,6,8,5,7,9]\n",
    "step = numbers[0:5:2] # start index 0, end index 2-1 and steps sequence 2 by 2 [2,8,7]\n",
    "step2 = numbers[::-1] # [ 9 , 7 , 5 , 8 , 6 , 2 ]\n",
    "step3 = numbers[::-2]\n",
    "step4 = numbers[4::-3]\n",
    "print(step)\n",
    "print(step2)\n",
    "print(step3)\n",
    "print(step4)"
   ]
  },
  {
   "cell_type": "code",
   "execution_count": 3,
   "metadata": {},
   "outputs": [
    {
     "name": "stdout",
     "output_type": "stream",
     "text": [
      " Youve Pakistan!\n",
      "'I Love Pakistan!\\r You'\n"
     ]
    }
   ],
   "source": [
    "# \\r is a carriage return character that moves the cursor to the beginning of the line\n",
    "# When printed, it causes \"You\" to overwrite \"I Lo\", resulting in: \"You Pakistan!\"\n",
    "print(\"I Love Pakistan!\\r You\")\n",
    "\n",
    "# To see the actual characters, we can use repr():\n",
    "print(repr(\"I Love Pakistan!\\r You\"))"
   ]
  }
 ],
 "metadata": {
  "kernelspec": {
   "display_name": "base",
   "language": "python",
   "name": "python3"
  },
  "language_info": {
   "codemirror_mode": {
    "name": "ipython",
    "version": 3
   },
   "file_extension": ".py",
   "mimetype": "text/x-python",
   "name": "python",
   "nbconvert_exporter": "python",
   "pygments_lexer": "ipython3",
   "version": "3.12.7"
  }
 },
 "nbformat": 4,
 "nbformat_minor": 2
}
