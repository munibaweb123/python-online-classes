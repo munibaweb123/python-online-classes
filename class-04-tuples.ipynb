{
 "cells": [
  {
   "cell_type": "markdown",
   "metadata": {},
   "source": [
    "# Tuples\n"
   ]
  },
  {
   "cell_type": "code",
   "execution_count": 7,
   "metadata": {},
   "outputs": [
    {
     "name": "stdout",
     "output_type": "stream",
     "text": [
      "3\n"
     ]
    }
   ],
   "source": [
    "tuple = (1,2,2,2,3,4,5)\n",
    "\n",
    "# Tuple is a collection of items that are ordered and immutable.\n",
    "\n",
    "print(tuple.count(2))\n"
   ]
  },
  {
   "cell_type": "markdown",
   "metadata": {},
   "source": [
    "# sets"
   ]
  },
  {
   "cell_type": "code",
   "execution_count": 11,
   "metadata": {},
   "outputs": [
    {
     "name": "stdout",
     "output_type": "stream",
     "text": [
      "{2, 3, 4, 5, 6}\n",
      "{3, 4, 5, 6}\n"
     ]
    }
   ],
   "source": [
    "numbers = {1,2,3,4,5}\n",
    "\n",
    "# Sets are a collection of items that are unordered and unique.\n",
    "\n",
    "numbers.add(6)\n",
    "numbers.pop()\n",
    "print(numbers)\n",
    "numbers.pop()\n",
    "print(numbers)\n",
    "\n"
   ]
  },
  {
   "cell_type": "markdown",
   "metadata": {},
   "source": [
    "# dictionaries\n"
   ]
  },
  {
   "cell_type": "code",
   "execution_count": 12,
   "metadata": {},
   "outputs": [
    {
     "name": "stdout",
     "output_type": "stream",
     "text": [
      "{'name': 'John', 'age': 20, 'city': 'New York'}\n"
     ]
    }
   ],
   "source": [
    "Student = {'name': 'John', 'age': 20, 'city': 'New York'}\n",
    "print(Student)\n"
   ]
  },
  {
   "cell_type": "code",
   "execution_count": 14,
   "metadata": {},
   "outputs": [
    {
     "name": "stdout",
     "output_type": "stream",
     "text": [
      "John\n",
      "20\n",
      "New York\n"
     ]
    }
   ],
   "source": [
    "print(Student['name']) \n",
    "print(Student['age'])\n",
    "print(Student['city'])\n"
   ]
  },
  {
   "cell_type": "code",
   "execution_count": 17,
   "metadata": {},
   "outputs": [
    {
     "name": "stdout",
     "output_type": "stream",
     "text": [
      "{'name': 'John', 'age': 20, 'city': 'New York', 'roll_no': 23456}\n"
     ]
    }
   ],
   "source": [
    "Student['roll_no'] = 23456 \n",
    "# Student.add('roll_no')\n",
    "print(Student)"
   ]
  },
  {
   "cell_type": "code",
   "execution_count": 18,
   "metadata": {},
   "outputs": [
    {
     "name": "stdout",
     "output_type": "stream",
     "text": [
      "{'name': 'Madiha', 'age': 20, 'city': 'New York', 'roll_no': 23456}\n"
     ]
    }
   ],
   "source": [
    "Student['name'] = 'Madiha'\n",
    "print(Student)\n"
   ]
  },
  {
   "cell_type": "code",
   "execution_count": 21,
   "metadata": {},
   "outputs": [
    {
     "name": "stdout",
     "output_type": "stream",
     "text": [
      "{'age': 20, 'city': 'New York'}\n"
     ]
    }
   ],
   "source": [
    "Student.pop('age')\n",
    "print(Student)\n"
   ]
  },
  {
   "cell_type": "code",
   "execution_count": 22,
   "metadata": {},
   "outputs": [
    {
     "name": "stdout",
     "output_type": "stream",
     "text": [
      "{'age': 20}\n"
     ]
    }
   ],
   "source": [
    "del Student['city']\n",
    "print(Student)\n"
   ]
  },
  {
   "cell_type": "code",
   "execution_count": 26,
   "metadata": {},
   "outputs": [
    {
     "name": "stdout",
     "output_type": "stream",
     "text": [
      "{'name': 'Horain', 'age': 10, 'roll_no': 12345}\n",
      "{'name': 'Madiha', 'age': 15, 'roll_no': 12346}\n",
      "{'name': 'Ayesha', 'age': 12, 'roll_no': 12347}\n"
     ]
    }
   ],
   "source": [
    "Student1 = {'name':'Horain', 'age':10, 'roll_no':12345}\n",
    "Student2 = {'name':'Madiha', 'age':15, 'roll_no':12346}\n",
    "Student3 = {'name':'Ayesha', 'age':12, 'roll_no':12347}\n",
    "\n",
    "Students = [Student1, Student2, Student3]\n",
    "#print([Student1, Student2, Student3])\n",
    "for student in Students:\n",
    "    print(student)\n"
   ]
  },
  {
   "cell_type": "code",
   "execution_count": 33,
   "metadata": {},
   "outputs": [
    {
     "name": "stdout",
     "output_type": "stream",
     "text": [
      "name = Horain\n",
      "age = 10\n",
      "roll_no = 12345\n"
     ]
    }
   ],
   "source": [
    "for key in Student1:\n",
    "    print(f\"{key} = {Student1[key]}\")\n",
    "    \n"
   ]
  },
  {
   "cell_type": "code",
   "execution_count": 34,
   "metadata": {},
   "outputs": [
    {
     "name": "stdout",
     "output_type": "stream",
     "text": [
      "dict_keys(['name', 'age', 'roll_no'])\n",
      "dict_values(['Horain', 10, 12345])\n",
      "dict_items([('name', 'Horain'), ('age', 10), ('roll_no', 12345)])\n"
     ]
    }
   ],
   "source": [
    "print(Student1.keys())\n",
    "\n",
    "print(Student1.values())\n",
    "\n",
    "print(Student1.items())\n",
    "\n"
   ]
  },
  {
   "cell_type": "code",
   "execution_count": 36,
   "metadata": {},
   "outputs": [
    {
     "name": "stdout",
     "output_type": "stream",
     "text": [
      "<class 'list'>\n",
      "<class 'dict'>\n"
     ]
    }
   ],
   "source": [
    "print(type(Students))\n",
    "print(type(Student1))"
   ]
  },
  {
   "cell_type": "code",
   "execution_count": 39,
   "metadata": {},
   "outputs": [
    {
     "name": "stdout",
     "output_type": "stream",
     "text": [
      "{'name': 'John', 'age': 20, 'city': 'New York'}\n"
     ]
    }
   ],
   "source": [
    "student5 : dict[str, int| str] = {'name': 'John', 'age': 20, 'city': 'New York'} # key value pair\n",
    "print(student5)\n"
   ]
  }
 ],
 "metadata": {
  "kernelspec": {
   "display_name": "base",
   "language": "python",
   "name": "python3"
  },
  "language_info": {
   "codemirror_mode": {
    "name": "ipython",
    "version": 3
   },
   "file_extension": ".py",
   "mimetype": "text/x-python",
   "name": "python",
   "nbconvert_exporter": "python",
   "pygments_lexer": "ipython3",
   "version": "3.12.7"
  }
 },
 "nbformat": 4,
 "nbformat_minor": 2
}
