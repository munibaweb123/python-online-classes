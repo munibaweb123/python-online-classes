{
 "cells": [
  {
   "cell_type": "markdown",
   "metadata": {},
   "source": [
    "# Class 1: Hello world\n",
    "\n",
    "conda create -n [name] python==[version] -y\n",
    "conda create -n class python==3.12.7 -y"
   ]
  },
  {
   "cell_type": "code",
   "execution_count": 1,
   "metadata": {},
   "outputs": [
    {
     "name": "stdout",
     "output_type": "stream",
     "text": [
      "Hello world!\n"
     ]
    }
   ],
   "source": [
    "print(\"Hello world!\")"
   ]
  },
  {
   "cell_type": "code",
   "execution_count": 2,
   "metadata": {},
   "outputs": [
    {
     "data": {
      "text/html": [
       "<div>\n",
       "<style scoped>\n",
       "    .dataframe tbody tr th:only-of-type {\n",
       "        vertical-align: middle;\n",
       "    }\n",
       "\n",
       "    .dataframe tbody tr th {\n",
       "        vertical-align: top;\n",
       "    }\n",
       "\n",
       "    .dataframe thead th {\n",
       "        text-align: right;\n",
       "    }\n",
       "</style>\n",
       "<table border=\"1\" class=\"dataframe\">\n",
       "  <thead>\n",
       "    <tr style=\"text-align: right;\">\n",
       "      <th></th>\n",
       "      <th>Example</th>\n",
       "      <th>Data Type</th>\n",
       "      <th>Try it</th>\n",
       "    </tr>\n",
       "  </thead>\n",
       "  <tbody>\n",
       "    <tr>\n",
       "      <th>0</th>\n",
       "      <td>x = \"Hello World\"</td>\n",
       "      <td>str</td>\n",
       "      <td>Try it »</td>\n",
       "    </tr>\n",
       "    <tr>\n",
       "      <th>1</th>\n",
       "      <td>x = 20</td>\n",
       "      <td>int</td>\n",
       "      <td>Try it »</td>\n",
       "    </tr>\n",
       "    <tr>\n",
       "      <th>2</th>\n",
       "      <td>x = 20.5</td>\n",
       "      <td>float</td>\n",
       "      <td>Try it »</td>\n",
       "    </tr>\n",
       "    <tr>\n",
       "      <th>3</th>\n",
       "      <td>x = 1j</td>\n",
       "      <td>complex</td>\n",
       "      <td>Try it »</td>\n",
       "    </tr>\n",
       "    <tr>\n",
       "      <th>4</th>\n",
       "      <td>x = [\"apple\", \"banana\", \"cherry\"]</td>\n",
       "      <td>list</td>\n",
       "      <td>Try it »</td>\n",
       "    </tr>\n",
       "    <tr>\n",
       "      <th>5</th>\n",
       "      <td>x = (\"apple\", \"banana\", \"cherry\")</td>\n",
       "      <td>tuple</td>\n",
       "      <td>Try it »</td>\n",
       "    </tr>\n",
       "    <tr>\n",
       "      <th>6</th>\n",
       "      <td>x = range(6)</td>\n",
       "      <td>range</td>\n",
       "      <td>Try it »</td>\n",
       "    </tr>\n",
       "    <tr>\n",
       "      <th>7</th>\n",
       "      <td>x = {\"name\" : \"John\", \"age\" : 36}</td>\n",
       "      <td>dict</td>\n",
       "      <td>Try it »</td>\n",
       "    </tr>\n",
       "    <tr>\n",
       "      <th>8</th>\n",
       "      <td>x = {\"apple\", \"banana\", \"cherry\"}</td>\n",
       "      <td>set</td>\n",
       "      <td>Try it »</td>\n",
       "    </tr>\n",
       "    <tr>\n",
       "      <th>9</th>\n",
       "      <td>x = frozenset({\"apple\", \"banana\", \"cherry\"})</td>\n",
       "      <td>frozenset</td>\n",
       "      <td>Try it »</td>\n",
       "    </tr>\n",
       "    <tr>\n",
       "      <th>10</th>\n",
       "      <td>x = True</td>\n",
       "      <td>bool</td>\n",
       "      <td>Try it »</td>\n",
       "    </tr>\n",
       "    <tr>\n",
       "      <th>11</th>\n",
       "      <td>x = b\"Hello\"</td>\n",
       "      <td>bytes</td>\n",
       "      <td>Try it »</td>\n",
       "    </tr>\n",
       "    <tr>\n",
       "      <th>12</th>\n",
       "      <td>x = bytearray(5)</td>\n",
       "      <td>bytearray</td>\n",
       "      <td>Try it »</td>\n",
       "    </tr>\n",
       "    <tr>\n",
       "      <th>13</th>\n",
       "      <td>x = memoryview(bytes(5))</td>\n",
       "      <td>memoryview</td>\n",
       "      <td>Try it »</td>\n",
       "    </tr>\n",
       "    <tr>\n",
       "      <th>14</th>\n",
       "      <td>x = None</td>\n",
       "      <td>NoneType</td>\n",
       "      <td>Try it »</td>\n",
       "    </tr>\n",
       "  </tbody>\n",
       "</table>\n",
       "</div>"
      ],
      "text/plain": [
       "                                         Example   Data Type    Try it\n",
       "0                              x = \"Hello World\"         str  Try it »\n",
       "1                                         x = 20         int  Try it »\n",
       "2                                       x = 20.5       float  Try it »\n",
       "3                                         x = 1j     complex  Try it »\n",
       "4              x = [\"apple\", \"banana\", \"cherry\"]        list  Try it »\n",
       "5              x = (\"apple\", \"banana\", \"cherry\")       tuple  Try it »\n",
       "6                                   x = range(6)       range  Try it »\n",
       "7              x = {\"name\" : \"John\", \"age\" : 36}        dict  Try it »\n",
       "8              x = {\"apple\", \"banana\", \"cherry\"}         set  Try it »\n",
       "9   x = frozenset({\"apple\", \"banana\", \"cherry\"})   frozenset  Try it »\n",
       "10                                      x = True        bool  Try it »\n",
       "11                                  x = b\"Hello\"       bytes  Try it »\n",
       "12                              x = bytearray(5)   bytearray  Try it »\n",
       "13                      x = memoryview(bytes(5))  memoryview  Try it »\n",
       "14                                      x = None    NoneType  Try it »"
      ]
     },
     "execution_count": 2,
     "metadata": {},
     "output_type": "execute_result"
    }
   ],
   "source": [
    "import pandas as pd\n",
    "datatypes = pd.read_html(\"https://www.w3schools.com/python/python_datatypes.asp\")\n",
    "datatypes[1]"
   ]
  },
  {
   "cell_type": "code",
   "execution_count": 3,
   "metadata": {},
   "outputs": [
    {
     "name": "stdout",
     "output_type": "stream",
     "text": [
      "Hoorain\n",
      "<class 'str'>\n",
      "1345480615152\n"
     ]
    }
   ],
   "source": [
    "name: str = \"Hoorain\"\n",
    "print(name)\n",
    "print(type(name))\n",
    "print(id(name))"
   ]
  },
  {
   "cell_type": "code",
   "execution_count": 4,
   "metadata": {},
   "outputs": [
    {
     "name": "stdout",
     "output_type": "stream",
     "text": [
      "name: Hoorain, type: <class 'str'>\n",
      "age: 9, type: <class 'int'>\n",
      "num: 9.0, type: <class 'float'>\n",
      "student: False, type: <class 'bool'>\n",
      "languages: ['Javascript', 'Typescript', 'Python'], type: <class 'list'>\n",
      "coordinates: (10.0, 20.0), type: <class 'tuple'>\n",
      "unique_numbers: {1, 2, 3, 4, 5}, type: <class 'set'>\n",
      "person_info: {'name': 'Alice', 'age': 30}, type: <class 'dict'>\n",
      "no_value: None, type: <class 'NoneType'>\n"
     ]
    }
   ],
   "source": [
    "# String\n",
    "name: str = \"Hoorain\"\n",
    "print(f\"name: {name}, type: {type(name)}\")\n",
    "\n",
    "# Integer\n",
    "age: int = 9\n",
    "print(f\"age: {age}, type: {type(age)}\")\n",
    "\n",
    "# Float\n",
    "num: float = 9.0\n",
    "print(f\"num: {num}, type: {type(num)}\")\n",
    "\n",
    "# Boolean\n",
    "student: bool = False\n",
    "print(f\"student: {student}, type: {type(student)}\")\n",
    "\n",
    "# List\n",
    "languages: list[str] = [\"Javascript\", \"Typescript\", \"Python\"]\n",
    "print(f\"languages: {languages}, type: {type(languages)}\")\n",
    "\n",
    "# Tuple\n",
    "coordinates: tuple = (10.0, 20.0)\n",
    "print(f\"coordinates: {coordinates}, type: {type(coordinates)}\")\n",
    "\n",
    "# Set\n",
    "unique_numbers: set = {1, 2, 3, 4, 5}\n",
    "print(f\"unique_numbers: {unique_numbers}, type: {type(unique_numbers)}\")\n",
    "\n",
    "# Dictionary\n",
    "person_info: dict = {\"name\": \"Alice\", \"age\": 30}\n",
    "print(f\"person_info: {person_info}, type: {type(person_info)}\")\n",
    "\n",
    "# NoneType\n",
    "no_value: None = None\n",
    "print(f\"no_value: {no_value}, type: {type(no_value)}\")"
   ]
  },
  {
   "cell_type": "markdown",
   "metadata": {},
   "source": [
    "## String"
   ]
  },
  {
   "cell_type": "code",
   "execution_count": 5,
   "metadata": {},
   "outputs": [
    {
     "name": "stdout",
     "output_type": "stream",
     "text": [
      "Hoorain\n",
      "<class 'str'>\n",
      "7\n",
      "1345480615152\n",
      "['capitalize', 'casefold', 'center', 'count', 'encode', 'endswith', 'expandtabs', 'find', 'format', 'format_map', 'index', 'isalnum', 'isalpha', 'isascii', 'isdecimal', 'isdigit', 'isidentifier', 'islower', 'isnumeric', 'isprintable', 'isspace', 'istitle', 'isupper', 'join', 'ljust', 'lower', 'lstrip', 'maketrans', 'partition', 'removeprefix', 'removesuffix', 'replace', 'rfind', 'rindex', 'rjust', 'rpartition', 'rsplit', 'rstrip', 'split', 'splitlines', 'startswith', 'strip', 'swapcase', 'title', 'translate', 'upper', 'zfill']\n"
     ]
    }
   ],
   "source": [
    "# string\n",
    "\n",
    "name: str = \"Hoorain\"\n",
    "print(name) # print\n",
    "print(type(name)) # type\n",
    "print(len(name)) # length of string\n",
    "print(id(name)) # physical address\n",
    "print([i for i in dir(str) if '__' not in i]) # methods and attributes"
   ]
  },
  {
   "cell_type": "markdown",
   "metadata": {},
   "source": [
    "### Multiline string, F string"
   ]
  },
  {
   "cell_type": "code",
   "execution_count": 6,
   "metadata": {},
   "outputs": [
    {
     "name": "stdout",
     "output_type": "stream",
     "text": [
      "GIAIC Student Card: \n",
      "Name: hoorain \n",
      "Age: 3\n",
      " Course: python\n"
     ]
    }
   ],
   "source": [
    "name = \"hoorain\"\n",
    "age: int = 3\n",
    "course = \"python\"\n",
    "\n",
    "id_card = \"GIAIC Student Card: \\nName: \" + name + \" \\nAge: \" + str(age) + \"\\n Course: \" + course\n",
    "\n",
    "print(id_card)"
   ]
  },
  {
   "cell_type": "code",
   "execution_count": 7,
   "metadata": {},
   "outputs": [
    {
     "name": "stdout",
     "output_type": "stream",
     "text": [
      "GIAIC Student Card: \n",
      "Name hoorain \n",
      "Age: 13 \n",
      " Course: python\n"
     ]
    }
   ],
   "source": [
    "name = \"hoorain\"\n",
    "age: int = 3\n",
    "course = \"python\"\n",
    "\n",
    "id_card = f\"GIAIC Student Card: \\nName {name} \\nAge: {age + 10} \\n Course: {course}\"\n",
    "\n",
    "print(id_card)"
   ]
  },
  {
   "cell_type": "code",
   "execution_count": 8,
   "metadata": {},
   "outputs": [
    {
     "name": "stdout",
     "output_type": "stream",
     "text": [
      "\n",
      "GIAIC Student Card\n",
      "Name: hoorain\n",
      "Age: 3\n",
      "Course: python\n",
      "\n"
     ]
    }
   ],
   "source": [
    "name = \"hoorain\"\n",
    "age: int = 3\n",
    "course = \"python\"\n",
    "\n",
    "id_card = f\"GIAIC Student Card: \\nName {name} \\nAge: {age + 10} \\n Course: {course}\"\n",
    "id_card = f\"\"\"\n",
    "GIAIC Student Card\n",
    "Name: {name}\n",
    "Age: {age}\n",
    "Course: {course}\n",
    "\"\"\"\n",
    "\n",
    "\n",
    "print(id_card)"
   ]
  },
  {
   "cell_type": "markdown",
   "metadata": {},
   "source": [
    "### Jinja style"
   ]
  },
  {
   "cell_type": "code",
   "execution_count": 9,
   "metadata": {},
   "outputs": [
    {
     "name": "stdout",
     "output_type": "stream",
     "text": [
      "GIAIC Student Card \n",
      "Name: hoorain\n",
      "Age: 3\n",
      "Course: python\n"
     ]
    }
   ],
   "source": [
    "name = \"hoorain\"\n",
    "age: int = 3\n",
    "course = \"python\"\n",
    "\n",
    "id_card = \"\"\"GIAIC Student Card \n",
    "Name: {}\n",
    "Age: {}\n",
    "Course: {}\"\"\".format(name, age, course)\n",
    "\n",
    "print(id_card)"
   ]
  },
  {
   "cell_type": "code",
   "execution_count": 10,
   "metadata": {},
   "outputs": [
    {
     "name": "stdout",
     "output_type": "stream",
     "text": [
      "a = 6, b = 5, c = 3\n",
      "a = 3, b = 7, c = hello\n"
     ]
    }
   ],
   "source": [
    "a = 3\n",
    "b=5\n",
    "c=6\n",
    "\n",
    "#           1       2      0             0  1  2\n",
    "print(\"a = {1}, b = {2}, c = {0}\".format(a, c, b))\n",
    "print(\"a = {a}, b = {b}, c = {c}\".format(a=a, b=7, c=\"hello\"))"
   ]
  },
  {
   "cell_type": "markdown",
   "metadata": {},
   "source": [
    "### Looping Through a String\n",
    "Since strings are arrays, we can loop through the characters in a string, with a `for` loop."
   ]
  },
  {
   "cell_type": "code",
   "execution_count": 11,
   "metadata": {},
   "outputs": [
    {
     "name": "stdout",
     "output_type": "stream",
     "text": [
      "T\n",
      "This is python course\n",
      "h\n",
      "This is python course\n",
      "i\n",
      "This is python course\n",
      "s\n",
      "This is python course\n",
      " \n",
      "This is python course\n",
      "i\n",
      "This is python course\n",
      "s\n",
      "This is python course\n",
      " \n",
      "This is python course\n",
      "p\n",
      "This is python course\n",
      "y\n",
      "This is python course\n",
      "t\n",
      "This is python course\n",
      "h\n",
      "This is python course\n",
      "o\n",
      "This is python course\n",
      "n\n",
      "This is python course\n",
      " \n",
      "This is python course\n",
      "c\n",
      "This is python course\n",
      "o\n",
      "This is python course\n",
      "u\n",
      "This is python course\n",
      "r\n",
      "This is python course\n",
      "s\n",
      "This is python course\n",
      "e\n",
      "This is python course\n",
      "------------------\n"
     ]
    }
   ],
   "source": [
    "message = \"This is python course\"\n",
    "\n",
    "for char in message:\n",
    "    print(char)\n",
    "    print(message)\n",
    "\n",
    "print('------------------')\n"
   ]
  },
  {
   "cell_type": "markdown",
   "metadata": {},
   "source": [
    "### Check String\n",
    "To check if a certain phrase or character is present in a string, we can use the keyword `in`.\n",
    "To check if a certain phrase or character is NOT present in a string, we can use the keyword `not in`.\n"
   ]
  },
  {
   "cell_type": "code",
   "execution_count": 12,
   "metadata": {},
   "outputs": [
    {
     "name": "stdout",
     "output_type": "stream",
     "text": [
      "True\n"
     ]
    }
   ],
   "source": [
    "message = \"This is python course\"\n",
    "\n",
    "include = \"is\" in message\n",
    "\n",
    "print(include)"
   ]
  },
  {
   "cell_type": "code",
   "execution_count": 13,
   "metadata": {},
   "outputs": [
    {
     "name": "stdout",
     "output_type": "stream",
     "text": [
      "True\n"
     ]
    }
   ],
   "source": [
    "message = \"This is python course\"\n",
    "\n",
    "not_include = \"javascript\" not in message\n",
    "\n",
    "print(not_include)"
   ]
  },
  {
   "cell_type": "markdown",
   "metadata": {},
   "source": [
    "### Methods"
   ]
  },
  {
   "cell_type": "code",
   "execution_count": 14,
   "metadata": {},
   "outputs": [
    {
     "data": {
      "text/html": [
       "<div>\n",
       "<style scoped>\n",
       "    .dataframe tbody tr th:only-of-type {\n",
       "        vertical-align: middle;\n",
       "    }\n",
       "\n",
       "    .dataframe tbody tr th {\n",
       "        vertical-align: top;\n",
       "    }\n",
       "\n",
       "    .dataframe thead th {\n",
       "        text-align: right;\n",
       "    }\n",
       "</style>\n",
       "<table border=\"1\" class=\"dataframe\">\n",
       "  <thead>\n",
       "    <tr style=\"text-align: right;\">\n",
       "      <th></th>\n",
       "      <th>Method</th>\n",
       "      <th>Description</th>\n",
       "    </tr>\n",
       "  </thead>\n",
       "  <tbody>\n",
       "    <tr>\n",
       "      <th>0</th>\n",
       "      <td>capitalize()</td>\n",
       "      <td>Converts the first character to upper case</td>\n",
       "    </tr>\n",
       "    <tr>\n",
       "      <th>1</th>\n",
       "      <td>casefold()</td>\n",
       "      <td>Converts string into lower case</td>\n",
       "    </tr>\n",
       "    <tr>\n",
       "      <th>2</th>\n",
       "      <td>center()</td>\n",
       "      <td>Returns a centered string</td>\n",
       "    </tr>\n",
       "    <tr>\n",
       "      <th>3</th>\n",
       "      <td>count()</td>\n",
       "      <td>Returns the number of times a specified value ...</td>\n",
       "    </tr>\n",
       "    <tr>\n",
       "      <th>4</th>\n",
       "      <td>encode()</td>\n",
       "      <td>Returns an encoded version of the string</td>\n",
       "    </tr>\n",
       "    <tr>\n",
       "      <th>5</th>\n",
       "      <td>endswith()</td>\n",
       "      <td>Returns true if the string ends with the speci...</td>\n",
       "    </tr>\n",
       "    <tr>\n",
       "      <th>6</th>\n",
       "      <td>expandtabs()</td>\n",
       "      <td>Sets the tab size of the string</td>\n",
       "    </tr>\n",
       "    <tr>\n",
       "      <th>7</th>\n",
       "      <td>find()</td>\n",
       "      <td>Searches the string for a specified value and ...</td>\n",
       "    </tr>\n",
       "    <tr>\n",
       "      <th>8</th>\n",
       "      <td>format()</td>\n",
       "      <td>Formats specified values in a string</td>\n",
       "    </tr>\n",
       "    <tr>\n",
       "      <th>9</th>\n",
       "      <td>format_map()</td>\n",
       "      <td>Formats specified values in a string</td>\n",
       "    </tr>\n",
       "    <tr>\n",
       "      <th>10</th>\n",
       "      <td>index()</td>\n",
       "      <td>Searches the string for a specified value and ...</td>\n",
       "    </tr>\n",
       "    <tr>\n",
       "      <th>11</th>\n",
       "      <td>isalnum()</td>\n",
       "      <td>Returns True if all characters in the string a...</td>\n",
       "    </tr>\n",
       "    <tr>\n",
       "      <th>12</th>\n",
       "      <td>isalpha()</td>\n",
       "      <td>Returns True if all characters in the string a...</td>\n",
       "    </tr>\n",
       "    <tr>\n",
       "      <th>13</th>\n",
       "      <td>isascii()</td>\n",
       "      <td>Returns True if all characters in the string a...</td>\n",
       "    </tr>\n",
       "    <tr>\n",
       "      <th>14</th>\n",
       "      <td>isdecimal()</td>\n",
       "      <td>Returns True if all characters in the string a...</td>\n",
       "    </tr>\n",
       "    <tr>\n",
       "      <th>15</th>\n",
       "      <td>isdigit()</td>\n",
       "      <td>Returns True if all characters in the string a...</td>\n",
       "    </tr>\n",
       "    <tr>\n",
       "      <th>16</th>\n",
       "      <td>isidentifier()</td>\n",
       "      <td>Returns True if the string is an identifier</td>\n",
       "    </tr>\n",
       "    <tr>\n",
       "      <th>17</th>\n",
       "      <td>islower()</td>\n",
       "      <td>Returns True if all characters in the string a...</td>\n",
       "    </tr>\n",
       "    <tr>\n",
       "      <th>18</th>\n",
       "      <td>isnumeric()</td>\n",
       "      <td>Returns True if all characters in the string a...</td>\n",
       "    </tr>\n",
       "    <tr>\n",
       "      <th>19</th>\n",
       "      <td>isprintable()</td>\n",
       "      <td>Returns True if all characters in the string a...</td>\n",
       "    </tr>\n",
       "    <tr>\n",
       "      <th>20</th>\n",
       "      <td>isspace()</td>\n",
       "      <td>Returns True if all characters in the string a...</td>\n",
       "    </tr>\n",
       "    <tr>\n",
       "      <th>21</th>\n",
       "      <td>istitle()</td>\n",
       "      <td>Returns True if the string follows the rules o...</td>\n",
       "    </tr>\n",
       "    <tr>\n",
       "      <th>22</th>\n",
       "      <td>isupper()</td>\n",
       "      <td>Returns True if all characters in the string a...</td>\n",
       "    </tr>\n",
       "    <tr>\n",
       "      <th>23</th>\n",
       "      <td>join()</td>\n",
       "      <td>Joins the elements of an iterable to the end o...</td>\n",
       "    </tr>\n",
       "    <tr>\n",
       "      <th>24</th>\n",
       "      <td>ljust()</td>\n",
       "      <td>Returns a left justified version of the string</td>\n",
       "    </tr>\n",
       "    <tr>\n",
       "      <th>25</th>\n",
       "      <td>lower()</td>\n",
       "      <td>Converts a string into lower case</td>\n",
       "    </tr>\n",
       "    <tr>\n",
       "      <th>26</th>\n",
       "      <td>lstrip()</td>\n",
       "      <td>Returns a left trim version of the string</td>\n",
       "    </tr>\n",
       "    <tr>\n",
       "      <th>27</th>\n",
       "      <td>maketrans()</td>\n",
       "      <td>Returns a translation table to be used in tran...</td>\n",
       "    </tr>\n",
       "    <tr>\n",
       "      <th>28</th>\n",
       "      <td>partition()</td>\n",
       "      <td>Returns a tuple where the string is parted int...</td>\n",
       "    </tr>\n",
       "    <tr>\n",
       "      <th>29</th>\n",
       "      <td>replace()</td>\n",
       "      <td>Returns a string where a specified value is re...</td>\n",
       "    </tr>\n",
       "    <tr>\n",
       "      <th>30</th>\n",
       "      <td>rfind()</td>\n",
       "      <td>Searches the string for a specified value and ...</td>\n",
       "    </tr>\n",
       "    <tr>\n",
       "      <th>31</th>\n",
       "      <td>rindex()</td>\n",
       "      <td>Searches the string for a specified value and ...</td>\n",
       "    </tr>\n",
       "    <tr>\n",
       "      <th>32</th>\n",
       "      <td>rjust()</td>\n",
       "      <td>Returns a right justified version of the string</td>\n",
       "    </tr>\n",
       "    <tr>\n",
       "      <th>33</th>\n",
       "      <td>rpartition()</td>\n",
       "      <td>Returns a tuple where the string is parted int...</td>\n",
       "    </tr>\n",
       "    <tr>\n",
       "      <th>34</th>\n",
       "      <td>rsplit()</td>\n",
       "      <td>Splits the string at the specified separator, ...</td>\n",
       "    </tr>\n",
       "    <tr>\n",
       "      <th>35</th>\n",
       "      <td>rstrip()</td>\n",
       "      <td>Returns a right trim version of the string</td>\n",
       "    </tr>\n",
       "    <tr>\n",
       "      <th>36</th>\n",
       "      <td>split()</td>\n",
       "      <td>Splits the string at the specified separator, ...</td>\n",
       "    </tr>\n",
       "    <tr>\n",
       "      <th>37</th>\n",
       "      <td>splitlines()</td>\n",
       "      <td>Splits the string at line breaks and returns a...</td>\n",
       "    </tr>\n",
       "    <tr>\n",
       "      <th>38</th>\n",
       "      <td>startswith()</td>\n",
       "      <td>Returns true if the string starts with the spe...</td>\n",
       "    </tr>\n",
       "    <tr>\n",
       "      <th>39</th>\n",
       "      <td>strip()</td>\n",
       "      <td>Returns a trimmed version of the string</td>\n",
       "    </tr>\n",
       "    <tr>\n",
       "      <th>40</th>\n",
       "      <td>swapcase()</td>\n",
       "      <td>Swaps cases, lower case becomes upper case and...</td>\n",
       "    </tr>\n",
       "    <tr>\n",
       "      <th>41</th>\n",
       "      <td>title()</td>\n",
       "      <td>Converts the first character of each word to u...</td>\n",
       "    </tr>\n",
       "    <tr>\n",
       "      <th>42</th>\n",
       "      <td>translate()</td>\n",
       "      <td>Returns a translated string</td>\n",
       "    </tr>\n",
       "    <tr>\n",
       "      <th>43</th>\n",
       "      <td>upper()</td>\n",
       "      <td>Converts a string into upper case</td>\n",
       "    </tr>\n",
       "    <tr>\n",
       "      <th>44</th>\n",
       "      <td>zfill()</td>\n",
       "      <td>Fills the string with a specified number of 0 ...</td>\n",
       "    </tr>\n",
       "  </tbody>\n",
       "</table>\n",
       "</div>"
      ],
      "text/plain": [
       "            Method                                        Description\n",
       "0     capitalize()         Converts the first character to upper case\n",
       "1       casefold()                    Converts string into lower case\n",
       "2         center()                          Returns a centered string\n",
       "3          count()  Returns the number of times a specified value ...\n",
       "4         encode()           Returns an encoded version of the string\n",
       "5       endswith()  Returns true if the string ends with the speci...\n",
       "6     expandtabs()                    Sets the tab size of the string\n",
       "7           find()  Searches the string for a specified value and ...\n",
       "8         format()               Formats specified values in a string\n",
       "9     format_map()               Formats specified values in a string\n",
       "10         index()  Searches the string for a specified value and ...\n",
       "11       isalnum()  Returns True if all characters in the string a...\n",
       "12       isalpha()  Returns True if all characters in the string a...\n",
       "13       isascii()  Returns True if all characters in the string a...\n",
       "14     isdecimal()  Returns True if all characters in the string a...\n",
       "15       isdigit()  Returns True if all characters in the string a...\n",
       "16  isidentifier()        Returns True if the string is an identifier\n",
       "17       islower()  Returns True if all characters in the string a...\n",
       "18     isnumeric()  Returns True if all characters in the string a...\n",
       "19   isprintable()  Returns True if all characters in the string a...\n",
       "20       isspace()  Returns True if all characters in the string a...\n",
       "21       istitle()  Returns True if the string follows the rules o...\n",
       "22       isupper()  Returns True if all characters in the string a...\n",
       "23          join()  Joins the elements of an iterable to the end o...\n",
       "24         ljust()     Returns a left justified version of the string\n",
       "25         lower()                  Converts a string into lower case\n",
       "26        lstrip()          Returns a left trim version of the string\n",
       "27     maketrans()  Returns a translation table to be used in tran...\n",
       "28     partition()  Returns a tuple where the string is parted int...\n",
       "29       replace()  Returns a string where a specified value is re...\n",
       "30         rfind()  Searches the string for a specified value and ...\n",
       "31        rindex()  Searches the string for a specified value and ...\n",
       "32         rjust()    Returns a right justified version of the string\n",
       "33    rpartition()  Returns a tuple where the string is parted int...\n",
       "34        rsplit()  Splits the string at the specified separator, ...\n",
       "35        rstrip()         Returns a right trim version of the string\n",
       "36         split()  Splits the string at the specified separator, ...\n",
       "37    splitlines()  Splits the string at line breaks and returns a...\n",
       "38    startswith()  Returns true if the string starts with the spe...\n",
       "39         strip()            Returns a trimmed version of the string\n",
       "40      swapcase()  Swaps cases, lower case becomes upper case and...\n",
       "41         title()  Converts the first character of each word to u...\n",
       "42     translate()                        Returns a translated string\n",
       "43         upper()                  Converts a string into upper case\n",
       "44         zfill()  Fills the string with a specified number of 0 ..."
      ]
     },
     "execution_count": 14,
     "metadata": {},
     "output_type": "execute_result"
    }
   ],
   "source": [
    "methods_table = pd.read_html(\"https://www.w3schools.com/python/python_strings_methods.asp\")\n",
    "methods_table[0]"
   ]
  },
  {
   "cell_type": "code",
   "execution_count": 15,
   "metadata": {},
   "outputs": [
    {
     "name": "stdout",
     "output_type": "stream",
     "text": [
      "['capitalize', 'casefold', 'center', 'count', 'encode', 'endswith', 'expandtabs', 'find', 'format', 'format_map', 'index', 'isalnum', 'isalpha', 'isascii', 'isdecimal', 'isdigit', 'isidentifier', 'islower', 'isnumeric', 'isprintable', 'isspace', 'istitle', 'isupper', 'join', 'ljust', 'lower', 'lstrip', 'maketrans', 'partition', 'removeprefix', 'removesuffix', 'replace', 'rfind', 'rindex', 'rjust', 'rpartition', 'rsplit', 'rstrip', 'split', 'splitlines', 'startswith', 'strip', 'swapcase', 'title', 'translate', 'upper', 'zfill']\n"
     ]
    }
   ],
   "source": [
    "print([i for i in dir(str) if '__' not in i]) # methods and attributes"
   ]
  },
  {
   "cell_type": "code",
   "execution_count": 16,
   "metadata": {},
   "outputs": [
    {
     "name": "stdout",
     "output_type": "stream",
     "text": [
      "muNiBa kHan\n",
      "Muniba khan\n",
      "MUNIBA KHAN\n",
      "muniba khan\n",
      "Muniba Khan\n",
      "MUnIbA KhAN\n"
     ]
    }
   ],
   "source": [
    "name = \"muNiBa kHan\"\n",
    "\n",
    "print(name)\n",
    "print(name.capitalize())\n",
    "print(name.upper())\n",
    "print(name.lower())\n",
    "print(name.title())\n",
    "print(name.swapcase())\n"
   ]
  },
  {
   "cell_type": "code",
   "execution_count": 17,
   "metadata": {},
   "outputs": [
    {
     "name": "stdout",
     "output_type": "stream",
     "text": [
      "False\n",
      "True\n"
     ]
    }
   ],
   "source": [
    "message = \"This is python course\"\n",
    "\n",
    "print(message.startswith('t'))\n",
    "print(message.endswith('urse'))\n"
   ]
  },
  {
   "cell_type": "code",
   "execution_count": 18,
   "metadata": {},
   "outputs": [
    {
     "name": "stdout",
     "output_type": "stream",
     "text": [
      "www.example.com\n",
      "example.com\n",
      "www.example\n"
     ]
    }
   ],
   "source": [
    "example = \"www.example.com\"\n",
    "\n",
    "print(example)\n",
    "print(example.removeprefix('www.'))\n",
    "print(example.removesuffix('.com'))"
   ]
  },
  {
   "cell_type": "code",
   "execution_count": 19,
   "metadata": {},
   "outputs": [
    {
     "name": "stdout",
     "output_type": "stream",
     "text": [
      "-1\n"
     ]
    }
   ],
   "source": [
    "message = \"This is python course\"\n",
    "#          0123\n",
    "\n",
    "print(message.find('python', 3, 5))"
   ]
  },
  {
   "cell_type": "code",
   "execution_count": 20,
   "metadata": {},
   "outputs": [
    {
     "name": "stdout",
     "output_type": "stream",
     "text": [
      "This is typescript course\n"
     ]
    }
   ],
   "source": [
    "\n",
    "message = \"This is python course\"\n",
    "\n",
    "print(message.replace('python', 'typescript'))"
   ]
  },
  {
   "cell_type": "code",
   "execution_count": 21,
   "metadata": {},
   "outputs": [
    {
     "data": {
      "text/plain": [
       "'             This   is     python course       '"
      ]
     },
     "metadata": {},
     "output_type": "display_data"
    },
    {
     "data": {
      "text/plain": [
       "'This   is     python course'"
      ]
     },
     "metadata": {},
     "output_type": "display_data"
    },
    {
     "data": {
      "text/plain": [
       "'This   is     python course       '"
      ]
     },
     "metadata": {},
     "output_type": "display_data"
    },
    {
     "data": {
      "text/plain": [
       "'             This   is     python course'"
      ]
     },
     "metadata": {},
     "output_type": "display_data"
    }
   ],
   "source": [
    "\n",
    "message = \"             This   is     python course       \"\n",
    "display(message)\n",
    "display(message.strip())\n",
    "display(message.lstrip())\n",
    "display(message.rstrip())\n"
   ]
  },
  {
   "cell_type": "code",
   "execution_count": 22,
   "metadata": {},
   "outputs": [
    {
     "data": {
      "text/plain": [
       "'hThis is python course This is python courseeThis is python course This is python courselThis is python course This is python courselThis is python courseo'"
      ]
     },
     "execution_count": 22,
     "metadata": {},
     "output_type": "execute_result"
    }
   ],
   "source": [
    "message = \"This is python course\"\n",
    "\n",
    "message.join('h e l lo')"
   ]
  }
 ],
 "metadata": {
  "kernelspec": {
   "display_name": "class",
   "language": "python",
   "name": "python3"
  },
  "language_info": {
   "codemirror_mode": {
    "name": "ipython",
    "version": 3
   },
   "file_extension": ".py",
   "mimetype": "text/x-python",
   "name": "python",
   "nbconvert_exporter": "python",
   "pygments_lexer": "ipython3",
   "version": "3.12.4"
  }
 },
 "nbformat": 4,
 "nbformat_minor": 2
}
