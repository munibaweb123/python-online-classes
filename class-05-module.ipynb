{
 "cells": [
  {
   "cell_type": "markdown",
   "metadata": {},
   "source": [
    "# Reusability\n",
    "In Programming, there is a chance that the code you want to develop, someone might have already created it. This enables reusability and faster development. \n",
    "These programs that are created by someone else which you can use in your project are called **modules**.\n",
    "## Modules\n",
    "In simple words, a module is a piece of code that has a specific functionality.\n",
    "Each module is a different file, which can be edited and maintained seperately and can be used in another program."
   ]
  },
  {
   "cell_type": "markdown",
   "metadata": {},
   "source": [
    "# Module in python\n",
    "A module in Python is simply a file with some **pre-written code** that is available globally that you can use in your program whenever required. These modules help us to break large programs into smaller chunks.\n",
    "Therefore, to use a module, first, we will need to import it using the '**import statement**'."
   ]
  },
  {
   "cell_type": "markdown",
   "metadata": {},
   "source": [
    "## How to use a module?\n",
    "1) **Using the import statement**- The import statement simply imports the module in our code. To do that, we can use the '__import__' keyword. i.e: import module_name\n",
    "2) **Using the 'as' keyword**- Python provides the 'as' keyword that helps us to rename the module. This simply helps us to access various functions of the module more efficiently. i.e: import module_name as m.\n",
    "Here **m** is the new and shorter name given to the module.\n",
    "3) **Using the from...import statement**- When there is a situation you just need some particular function/class from the module. In such cases, we can use the from...import syntax, that simply import the required part of code only. i.e: from module_name import function_name\n"
   ]
  },
  {
   "cell_type": "markdown",
   "metadata": {},
   "source": [
    "# Types of Modules\n",
    "There are different types of modules provided in Python. These are.\n",
    "1. Built-in modules\n",
    "2. Third-party modules\n",
    "3. Custom modules"
   ]
  },
  {
   "cell_type": "markdown",
   "metadata": {},
   "source": [
    "## Built-in Modules in Python\n",
    "Similarly, built-in modules are the modules that are **by default** available in python. Since they are already available in Python, you can directly use them by importing them. These modules are developed and maintained by the Python development team.\n",
    "Built-in modules are written in C and integrated with the Python shell. Each built-in module contains resources for certain system-specific functionalities. To check all the built-in modules available in Python, run help('modules')"
   ]
  },
  {
   "cell_type": "code",
   "execution_count": 1,
   "metadata": {},
   "outputs": [
    {
     "name": "stdout",
     "output_type": "stream",
     "text": [
      "\n",
      "Please wait a moment while I gather a list of all available modules...\n",
      "\n"
     ]
    },
    {
     "name": "stderr",
     "output_type": "stream",
     "text": [
      "c:\\Users\\Sikandar\\anaconda3\\Lib\\site-packages\\paramiko\\pkey.py:82: CryptographyDeprecationWarning: TripleDES has been moved to cryptography.hazmat.decrepit.ciphers.algorithms.TripleDES and will be removed from this module in 48.0.0.\n",
      "  \"cipher\": algorithms.TripleDES,\n",
      "c:\\Users\\Sikandar\\anaconda3\\Lib\\site-packages\\paramiko\\transport.py:219: CryptographyDeprecationWarning: Blowfish has been moved to cryptography.hazmat.decrepit.ciphers.algorithms.Blowfish and will be removed from this module in 45.0.0.\n",
      "  \"class\": algorithms.Blowfish,\n",
      "c:\\Users\\Sikandar\\anaconda3\\Lib\\site-packages\\paramiko\\transport.py:243: CryptographyDeprecationWarning: TripleDES has been moved to cryptography.hazmat.decrepit.ciphers.algorithms.TripleDES and will be removed from this module in 48.0.0.\n",
      "  \"class\": algorithms.TripleDES,\n"
     ]
    },
    {
     "ename": "KeyboardInterrupt",
     "evalue": "",
     "output_type": "error",
     "traceback": [
      "\u001b[1;31m---------------------------------------------------------------------------\u001b[0m",
      "\u001b[1;31mKeyboardInterrupt\u001b[0m                         Traceback (most recent call last)",
      "Cell \u001b[1;32mIn[1], line 1\u001b[0m\n\u001b[1;32m----> 1\u001b[0m help(\u001b[38;5;124m'\u001b[39m\u001b[38;5;124mmodules\u001b[39m\u001b[38;5;124m'\u001b[39m)\n",
      "File \u001b[1;32m<frozen _sitebuiltins>:103\u001b[0m, in \u001b[0;36m__call__\u001b[1;34m(self, *args, **kwds)\u001b[0m\n",
      "File \u001b[1;32mc:\\Users\\Sikandar\\anaconda3\\Lib\\pydoc.py:2096\u001b[0m, in \u001b[0;36mHelper.__call__\u001b[1;34m(self, request)\u001b[0m\n\u001b[0;32m   2094\u001b[0m \u001b[38;5;28;01mif\u001b[39;00m request \u001b[38;5;129;01mis\u001b[39;00m \u001b[38;5;129;01mnot\u001b[39;00m \u001b[38;5;28mself\u001b[39m\u001b[38;5;241m.\u001b[39m_GoInteractive:\n\u001b[0;32m   2095\u001b[0m     \u001b[38;5;28;01mtry\u001b[39;00m:\n\u001b[1;32m-> 2096\u001b[0m         \u001b[38;5;28mself\u001b[39m\u001b[38;5;241m.\u001b[39mhelp(request)\n\u001b[0;32m   2097\u001b[0m     \u001b[38;5;28;01mexcept\u001b[39;00m \u001b[38;5;167;01mImportError\u001b[39;00m \u001b[38;5;28;01mas\u001b[39;00m err:\n\u001b[0;32m   2098\u001b[0m         \u001b[38;5;28mself\u001b[39m\u001b[38;5;241m.\u001b[39moutput\u001b[38;5;241m.\u001b[39mwrite(\u001b[38;5;124mf\u001b[39m\u001b[38;5;124m'\u001b[39m\u001b[38;5;132;01m{\u001b[39;00merr\u001b[38;5;132;01m}\u001b[39;00m\u001b[38;5;130;01m\\n\u001b[39;00m\u001b[38;5;124m'\u001b[39m)\n",
      "File \u001b[1;32mc:\\Users\\Sikandar\\anaconda3\\Lib\\pydoc.py:2145\u001b[0m, in \u001b[0;36mHelper.help\u001b[1;34m(self, request, is_cli)\u001b[0m\n\u001b[0;32m   2143\u001b[0m \u001b[38;5;28;01melif\u001b[39;00m request \u001b[38;5;241m==\u001b[39m \u001b[38;5;124m'\u001b[39m\u001b[38;5;124msymbols\u001b[39m\u001b[38;5;124m'\u001b[39m: \u001b[38;5;28mself\u001b[39m\u001b[38;5;241m.\u001b[39mlistsymbols()\n\u001b[0;32m   2144\u001b[0m \u001b[38;5;28;01melif\u001b[39;00m request \u001b[38;5;241m==\u001b[39m \u001b[38;5;124m'\u001b[39m\u001b[38;5;124mtopics\u001b[39m\u001b[38;5;124m'\u001b[39m: \u001b[38;5;28mself\u001b[39m\u001b[38;5;241m.\u001b[39mlisttopics()\n\u001b[1;32m-> 2145\u001b[0m \u001b[38;5;28;01melif\u001b[39;00m request \u001b[38;5;241m==\u001b[39m \u001b[38;5;124m'\u001b[39m\u001b[38;5;124mmodules\u001b[39m\u001b[38;5;124m'\u001b[39m: \u001b[38;5;28mself\u001b[39m\u001b[38;5;241m.\u001b[39mlistmodules()\n\u001b[0;32m   2146\u001b[0m \u001b[38;5;28;01melif\u001b[39;00m request[:\u001b[38;5;241m8\u001b[39m] \u001b[38;5;241m==\u001b[39m \u001b[38;5;124m'\u001b[39m\u001b[38;5;124mmodules \u001b[39m\u001b[38;5;124m'\u001b[39m:\n\u001b[0;32m   2147\u001b[0m     \u001b[38;5;28mself\u001b[39m\u001b[38;5;241m.\u001b[39mlistmodules(request\u001b[38;5;241m.\u001b[39msplit()[\u001b[38;5;241m1\u001b[39m])\n",
      "File \u001b[1;32mc:\\Users\\Sikandar\\anaconda3\\Lib\\pydoc.py:2303\u001b[0m, in \u001b[0;36mHelper.listmodules\u001b[1;34m(self, key)\u001b[0m\n\u001b[0;32m   2301\u001b[0m             \u001b[38;5;28;01mdef\u001b[39;00m \u001b[38;5;21monerror\u001b[39m(modname):\n\u001b[0;32m   2302\u001b[0m                 callback(\u001b[38;5;28;01mNone\u001b[39;00m, modname, \u001b[38;5;28;01mNone\u001b[39;00m)\n\u001b[1;32m-> 2303\u001b[0m             ModuleScanner()\u001b[38;5;241m.\u001b[39mrun(callback, onerror\u001b[38;5;241m=\u001b[39monerror)\n\u001b[0;32m   2304\u001b[0m             \u001b[38;5;28mself\u001b[39m\u001b[38;5;241m.\u001b[39mlist(modules\u001b[38;5;241m.\u001b[39mkeys())\n\u001b[0;32m   2305\u001b[0m             \u001b[38;5;28mself\u001b[39m\u001b[38;5;241m.\u001b[39moutput\u001b[38;5;241m.\u001b[39mwrite(\u001b[38;5;124m'''\u001b[39m\n\u001b[0;32m   2306\u001b[0m \u001b[38;5;124mEnter any module name to get more help.  Or, type \u001b[39m\u001b[38;5;124m\"\u001b[39m\u001b[38;5;124mmodules spam\u001b[39m\u001b[38;5;124m\"\u001b[39m\u001b[38;5;124m to search\u001b[39m\n\u001b[0;32m   2307\u001b[0m \u001b[38;5;124mfor modules whose name or summary contain the string \u001b[39m\u001b[38;5;124m\"\u001b[39m\u001b[38;5;124mspam\u001b[39m\u001b[38;5;124m\"\u001b[39m\u001b[38;5;124m.\u001b[39m\n\u001b[0;32m   2308\u001b[0m \u001b[38;5;124m'''\u001b[39m)\n",
      "File \u001b[1;32mc:\\Users\\Sikandar\\anaconda3\\Lib\\pydoc.py:2332\u001b[0m, in \u001b[0;36mModuleScanner.run\u001b[1;34m(self, callback, key, completer, onerror)\u001b[0m\n\u001b[0;32m   2329\u001b[0m             \u001b[38;5;28;01mif\u001b[39;00m name\u001b[38;5;241m.\u001b[39mlower()\u001b[38;5;241m.\u001b[39mfind(key) \u001b[38;5;241m>\u001b[39m\u001b[38;5;241m=\u001b[39m \u001b[38;5;241m0\u001b[39m:\n\u001b[0;32m   2330\u001b[0m                 callback(\u001b[38;5;28;01mNone\u001b[39;00m, modname, desc)\n\u001b[1;32m-> 2332\u001b[0m \u001b[38;5;28;01mfor\u001b[39;00m importer, modname, ispkg \u001b[38;5;129;01min\u001b[39;00m pkgutil\u001b[38;5;241m.\u001b[39mwalk_packages(onerror\u001b[38;5;241m=\u001b[39monerror):\n\u001b[0;32m   2333\u001b[0m     \u001b[38;5;28;01mif\u001b[39;00m \u001b[38;5;28mself\u001b[39m\u001b[38;5;241m.\u001b[39mquit:\n\u001b[0;32m   2334\u001b[0m         \u001b[38;5;28;01mbreak\u001b[39;00m\n",
      "File \u001b[1;32mc:\\Users\\Sikandar\\anaconda3\\Lib\\pkgutil.py:78\u001b[0m, in \u001b[0;36mwalk_packages\u001b[1;34m(path, prefix, onerror)\u001b[0m\n\u001b[0;32m     76\u001b[0m \u001b[38;5;28;01mif\u001b[39;00m info\u001b[38;5;241m.\u001b[39mispkg:\n\u001b[0;32m     77\u001b[0m     \u001b[38;5;28;01mtry\u001b[39;00m:\n\u001b[1;32m---> 78\u001b[0m         \u001b[38;5;28m__import__\u001b[39m(info\u001b[38;5;241m.\u001b[39mname)\n\u001b[0;32m     79\u001b[0m     \u001b[38;5;28;01mexcept\u001b[39;00m \u001b[38;5;167;01mImportError\u001b[39;00m:\n\u001b[0;32m     80\u001b[0m         \u001b[38;5;28;01mif\u001b[39;00m onerror \u001b[38;5;129;01mis\u001b[39;00m \u001b[38;5;129;01mnot\u001b[39;00m \u001b[38;5;28;01mNone\u001b[39;00m:\n",
      "File \u001b[1;32mc:\\Users\\Sikandar\\anaconda3\\Lib\\site-packages\\networkx\\__init__.py:42\u001b[0m\n\u001b[0;32m     39\u001b[0m \u001b[38;5;28;01mfrom\u001b[39;00m \u001b[38;5;21;01mnetworkx\u001b[39;00m\u001b[38;5;21;01m.\u001b[39;00m\u001b[38;5;21;01mreadwrite\u001b[39;00m \u001b[38;5;28;01mimport\u001b[39;00m \u001b[38;5;241m*\u001b[39m\n\u001b[0;32m     41\u001b[0m \u001b[38;5;66;03m# Need to test with SciPy, when available\u001b[39;00m\n\u001b[1;32m---> 42\u001b[0m \u001b[38;5;28;01mfrom\u001b[39;00m \u001b[38;5;21;01mnetworkx\u001b[39;00m \u001b[38;5;28;01mimport\u001b[39;00m algorithms\n\u001b[0;32m     43\u001b[0m \u001b[38;5;28;01mfrom\u001b[39;00m \u001b[38;5;21;01mnetworkx\u001b[39;00m\u001b[38;5;21;01m.\u001b[39;00m\u001b[38;5;21;01malgorithms\u001b[39;00m \u001b[38;5;28;01mimport\u001b[39;00m \u001b[38;5;241m*\u001b[39m\n\u001b[0;32m     45\u001b[0m \u001b[38;5;28;01mfrom\u001b[39;00m \u001b[38;5;21;01mnetworkx\u001b[39;00m \u001b[38;5;28;01mimport\u001b[39;00m linalg\n",
      "File \u001b[1;32mc:\\Users\\Sikandar\\anaconda3\\Lib\\site-packages\\networkx\\algorithms\\__init__.py:7\u001b[0m\n\u001b[0;32m      5\u001b[0m \u001b[38;5;28;01mfrom\u001b[39;00m \u001b[38;5;21;01mnetworkx\u001b[39;00m\u001b[38;5;21;01m.\u001b[39;00m\u001b[38;5;21;01malgorithms\u001b[39;00m\u001b[38;5;21;01m.\u001b[39;00m\u001b[38;5;21;01mbridges\u001b[39;00m \u001b[38;5;28;01mimport\u001b[39;00m \u001b[38;5;241m*\u001b[39m\n\u001b[0;32m      6\u001b[0m \u001b[38;5;28;01mfrom\u001b[39;00m \u001b[38;5;21;01mnetworkx\u001b[39;00m\u001b[38;5;21;01m.\u001b[39;00m\u001b[38;5;21;01malgorithms\u001b[39;00m\u001b[38;5;21;01m.\u001b[39;00m\u001b[38;5;21;01mchains\u001b[39;00m \u001b[38;5;28;01mimport\u001b[39;00m \u001b[38;5;241m*\u001b[39m\n\u001b[1;32m----> 7\u001b[0m \u001b[38;5;28;01mfrom\u001b[39;00m \u001b[38;5;21;01mnetworkx\u001b[39;00m\u001b[38;5;21;01m.\u001b[39;00m\u001b[38;5;21;01malgorithms\u001b[39;00m\u001b[38;5;21;01m.\u001b[39;00m\u001b[38;5;21;01mcentrality\u001b[39;00m \u001b[38;5;28;01mimport\u001b[39;00m \u001b[38;5;241m*\u001b[39m\n\u001b[0;32m      8\u001b[0m \u001b[38;5;28;01mfrom\u001b[39;00m \u001b[38;5;21;01mnetworkx\u001b[39;00m\u001b[38;5;21;01m.\u001b[39;00m\u001b[38;5;21;01malgorithms\u001b[39;00m\u001b[38;5;21;01m.\u001b[39;00m\u001b[38;5;21;01mchordal\u001b[39;00m \u001b[38;5;28;01mimport\u001b[39;00m \u001b[38;5;241m*\u001b[39m\n\u001b[0;32m      9\u001b[0m \u001b[38;5;28;01mfrom\u001b[39;00m \u001b[38;5;21;01mnetworkx\u001b[39;00m\u001b[38;5;21;01m.\u001b[39;00m\u001b[38;5;21;01malgorithms\u001b[39;00m\u001b[38;5;21;01m.\u001b[39;00m\u001b[38;5;21;01mcluster\u001b[39;00m \u001b[38;5;28;01mimport\u001b[39;00m \u001b[38;5;241m*\u001b[39m\n",
      "File \u001b[1;32mc:\\Users\\Sikandar\\anaconda3\\Lib\\site-packages\\networkx\\algorithms\\centrality\\__init__.py:11\u001b[0m\n\u001b[0;32m      9\u001b[0m \u001b[38;5;28;01mfrom\u001b[39;00m \u001b[38;5;21;01m.\u001b[39;00m\u001b[38;5;21;01meigenvector\u001b[39;00m \u001b[38;5;28;01mimport\u001b[39;00m \u001b[38;5;241m*\u001b[39m\n\u001b[0;32m     10\u001b[0m \u001b[38;5;28;01mfrom\u001b[39;00m \u001b[38;5;21;01m.\u001b[39;00m\u001b[38;5;21;01mgroup\u001b[39;00m \u001b[38;5;28;01mimport\u001b[39;00m \u001b[38;5;241m*\u001b[39m\n\u001b[1;32m---> 11\u001b[0m \u001b[38;5;28;01mfrom\u001b[39;00m \u001b[38;5;21;01m.\u001b[39;00m\u001b[38;5;21;01mharmonic\u001b[39;00m \u001b[38;5;28;01mimport\u001b[39;00m \u001b[38;5;241m*\u001b[39m\n\u001b[0;32m     12\u001b[0m \u001b[38;5;28;01mfrom\u001b[39;00m \u001b[38;5;21;01m.\u001b[39;00m\u001b[38;5;21;01mkatz\u001b[39;00m \u001b[38;5;28;01mimport\u001b[39;00m \u001b[38;5;241m*\u001b[39m\n\u001b[0;32m     13\u001b[0m \u001b[38;5;28;01mfrom\u001b[39;00m \u001b[38;5;21;01m.\u001b[39;00m\u001b[38;5;21;01mload\u001b[39;00m \u001b[38;5;28;01mimport\u001b[39;00m \u001b[38;5;241m*\u001b[39m\n",
      "File \u001b[1;32m<frozen importlib._bootstrap>:1360\u001b[0m, in \u001b[0;36m_find_and_load\u001b[1;34m(name, import_)\u001b[0m\n",
      "File \u001b[1;32m<frozen importlib._bootstrap>:1331\u001b[0m, in \u001b[0;36m_find_and_load_unlocked\u001b[1;34m(name, import_)\u001b[0m\n",
      "File \u001b[1;32m<frozen importlib._bootstrap>:935\u001b[0m, in \u001b[0;36m_load_unlocked\u001b[1;34m(spec)\u001b[0m\n",
      "File \u001b[1;32m<frozen importlib._bootstrap_external>:991\u001b[0m, in \u001b[0;36mexec_module\u001b[1;34m(self, module)\u001b[0m\n",
      "File \u001b[1;32m<frozen importlib._bootstrap_external>:1087\u001b[0m, in \u001b[0;36mget_code\u001b[1;34m(self, fullname)\u001b[0m\n",
      "File \u001b[1;32m<frozen importlib._bootstrap_external>:1186\u001b[0m, in \u001b[0;36mget_data\u001b[1;34m(self, path)\u001b[0m\n",
      "\u001b[1;31mKeyboardInterrupt\u001b[0m: "
     ]
    }
   ],
   "source": [
    "help('modules')"
   ]
  },
  {
   "cell_type": "code",
   "execution_count": 4,
   "metadata": {},
   "outputs": [
    {
     "name": "stdout",
     "output_type": "stream",
     "text": [
      "2.0\n",
      "2\n",
      "3\n",
      "24\n",
      "2.5\n"
     ]
    }
   ],
   "source": [
    "# math module\n",
    "import math\n",
    "number1 = 4\n",
    "number2 = 2.5\n",
    "print(math.sqrt(number1))\n",
    "print(math.floor(number2)) # 2\n",
    "print(math.ceil(number2)) # 3\n",
    "print(math.factorial(number1)) # 4x3x2x1 = 24\n",
    "print(math.fabs(number2))"
   ]
  },
  {
   "cell_type": "code",
   "execution_count": 3,
   "metadata": {},
   "outputs": [
    {
     "name": "stdout",
     "output_type": "stream",
     "text": [
      "8.0\n",
      "-0.026551154023966794\n"
     ]
    }
   ],
   "source": [
    "import math\n",
    "number1:int =int(input(\"enter first number: \"))\n",
    "number2:int =int(input(\"enter second number:\"))\n",
    "squareroot:int = math.sqrt(number1)\n",
    "squareroot2:float = math.sin(number2)\n",
    "print(squareroot)\n",
    "print(squareroot2)"
   ]
  },
  {
   "cell_type": "code",
   "execution_count": 5,
   "metadata": {},
   "outputs": [
    {
     "name": "stdout",
     "output_type": "stream",
     "text": [
      "0.3010299956639812\n",
      "0.1411200080598672\n",
      "-0.9899924966004454\n",
      "-0.1425465430742778\n",
      "8.0\n"
     ]
    }
   ],
   "source": [
    "number1 = 2\n",
    "number2 = 3\n",
    "print(math.log10(number1))\n",
    "print(math.sin(number2))\n",
    "print(math.cos(number2))\n",
    "print(math.tan(number2))\n",
    "print(math.pow(number1,number2)) #2 ^3 = 2x2x2 =8"
   ]
  },
  {
   "cell_type": "code",
   "execution_count": 12,
   "metadata": {},
   "outputs": [
    {
     "name": "stdout",
     "output_type": "stream",
     "text": [
      "0.7918797042211381\n",
      "5\n",
      "3\n"
     ]
    }
   ],
   "source": [
    "import random\n",
    "print(random.random()) # generate random float number from 0.0 to 1.0\n",
    "print(random.randint(5,10)) # generate random number from 0 to 6-1(5)\n",
    "print(random.randrange(1,10,2)) # generate random number in the range of 1-5 with step 2 => [1,3,5]"
   ]
  },
  {
   "cell_type": "code",
   "execution_count": 25,
   "metadata": {},
   "outputs": [
    {
     "name": "stdout",
     "output_type": "stream",
     "text": [
      "7\n",
      "21\n"
     ]
    }
   ],
   "source": [
    "number1 = 7\n",
    "number2 = 77\n",
    "number3=random.randint(number1,number2)\n",
    "print(number1)\n",
    "print(number3)"
   ]
  },
  {
   "cell_type": "code",
   "execution_count": 28,
   "metadata": {},
   "outputs": [
    {
     "name": "stdout",
     "output_type": "stream",
     "text": [
      "6\n",
      "[8, 9, 6, 1, 2, 0, 10, 3, 4, 5, 7]\n"
     ]
    }
   ],
   "source": [
    "numbers = [0,6,99,22,43]\n",
    "print(random.choice(numbers)) # randomly choose an element from non-empty sequence\n",
    "#random.shuffle(numbers) # randomly reorders the elements in a sequence\n",
    "#print(numbers)\n",
    "list2 = list(range(0,11))\n",
    "random.shuffle(list2)\n",
    "print(list2)"
   ]
  },
  {
   "cell_type": "markdown",
   "metadata": {},
   "source": [
    "# Operating System\n",
    "An __operating system__ is an __interface__ between a computer user and computer hardware. An operating system is software that performs all basic tasks like file management, process management, handling input and output, and controlling peripheral devices such asdisk drives and printers.\n",
    "One of the major tasks of programming languages is to interact with the computer at the OS level. This enables better control, access, and even more functionalities that one can perform."
   ]
  },
  {
   "cell_type": "markdown",
   "metadata": {},
   "source": [
    "## OS Module\n",
    "Python might not have direct access to the OS level functionalities but surely it is powerful and provides an alternative - The OS Module.\n",
    "**Python OS Module** provides the facility to establish the interaction between the user and the operating system dependent functionality. It provides many OS functions that are used to perform OS-based tasks and get related information about the operating system.\n",
    "Since it is a buil-in module, we can use it directly by importing it using the following statement.\n",
    "### working with OS Module\n",
    "Now, let's explore a few functions and attributes of the OS module and learn how we can use Python to interact with OS level functionalities.\n",
    "1) os.name\n",
    "It returns the name of the operating system module that it imports. Note that, it is not a function, but a variable in the OS module.\n",
    "2) os.getcwd()\n",
    "It returns the current working directory(CWD) of the file you are executing or working with.\n",
    "Note that it can vary from system to system."
   ]
  },
  {
   "cell_type": "code",
   "execution_count": 29,
   "metadata": {},
   "outputs": [
    {
     "name": "stdout",
     "output_type": "stream",
     "text": [
      "nt\n",
      "d:\\Q3\\cursor\n"
     ]
    }
   ],
   "source": [
    "#example 1\n",
    "import os\n",
    "print(os.name)\n",
    "\n",
    "#example 2\n",
    "import os\n",
    "print(os.getcwd())\n"
   ]
  },
  {
   "cell_type": "markdown",
   "metadata": {},
   "source": [
    "3) os.mkdir()\n",
    "It is used to create a new directory. It will create the new directory to the path in the string argument of the function."
   ]
  },
  {
   "cell_type": "code",
   "execution_count": 35,
   "metadata": {},
   "outputs": [
    {
     "ename": "FileExistsError",
     "evalue": "[WinError 183] Cannot create a file when that file already exists: 'D:\\\\work'",
     "output_type": "error",
     "traceback": [
      "\u001b[1;31m---------------------------------------------------------------------------\u001b[0m",
      "\u001b[1;31mFileExistsError\u001b[0m                           Traceback (most recent call last)",
      "Cell \u001b[1;32mIn[35], line 3\u001b[0m\n\u001b[0;32m      1\u001b[0m \u001b[38;5;28;01mimport\u001b[39;00m \u001b[38;5;21;01mos\u001b[39;00m\n\u001b[0;32m      2\u001b[0m \u001b[38;5;66;03m#os.mkdir(\"D:\\\\programming\")\u001b[39;00m\n\u001b[1;32m----> 3\u001b[0m os\u001b[38;5;241m.\u001b[39mmkdir(\u001b[38;5;124m\"\u001b[39m\u001b[38;5;124mD:\u001b[39m\u001b[38;5;130;01m\\\\\u001b[39;00m\u001b[38;5;124mwork\u001b[39m\u001b[38;5;124m\"\u001b[39m)\n",
      "\u001b[1;31mFileExistsError\u001b[0m: [WinError 183] Cannot create a file when that file already exists: 'D:\\\\work'"
     ]
    }
   ],
   "source": [
    "import os\n",
    "#os.mkdir(\"D:\\\\programming\")\n",
    "os.mkdir(\"D:\\\\work\")"
   ]
  },
  {
   "cell_type": "markdown",
   "metadata": {},
   "source": [
    "4) os.error()\n",
    "It defines the OS level errors. All functions in this module raise OSError in the case of invalid or inaccessible file names and paths,or other arguments that have the correct type but are not accepted by the operating system."
   ]
  },
  {
   "cell_type": "code",
   "execution_count": 3,
   "metadata": {},
   "outputs": [],
   "source": [
    "os.rename('list[1].ipynb','empty.ipynb')"
   ]
  },
  {
   "cell_type": "markdown",
   "metadata": {},
   "source": [
    "# Third-Party Module\n",
    "A third-party module is any code that has been written by a third party, neither you nor the python writers.\n"
   ]
  },
  {
   "cell_type": "markdown",
   "metadata": {},
   "source": [
    "# PyPI(Python Package Index)\n",
    "python third-party modules are hosted on PyPI.\n",
    "The Python Package Index, abbreviated as PyPI, is the official third-party software repository for Python, It helps you find and install software developed and shared by the Python community."
   ]
  },
  {
   "cell_type": "markdown",
   "metadata": {},
   "source": [
    "# PIP\n",
    "Therefore, we can install the required modules from PyPI. We can do that with the help of something called PIP. Python comes with a package manager called pip.\n",
    "The name is recursive acronym short for Pip Install Packages. Pip automatically knows to install from PyPI..\n",
    "We can install the required module using PIP by executing the below command on the terminal.\n",
    "pip install module_name\n",
    "Once we intall the module we can simply use it by importing them by import statements just like built-in modules."
   ]
  },
  {
   "cell_type": "markdown",
   "metadata": {},
   "source": [
    "# Custom Modules\n",
    "In Python we can create our own modules according to our requirements. Such modules are called **custom modules**.\n",
    "Python **custom modules** are just like any other module and are simple Python files that can be imported into another file. So, it is a file containing a set of functions you want to include in your program."
   ]
  }
 ],
 "metadata": {
  "kernelspec": {
   "display_name": "base",
   "language": "python",
   "name": "python3"
  },
  "language_info": {
   "codemirror_mode": {
    "name": "ipython",
    "version": 3
   },
   "file_extension": ".py",
   "mimetype": "text/x-python",
   "name": "python",
   "nbconvert_exporter": "python",
   "pygments_lexer": "ipython3",
   "version": "3.12.7"
  }
 },
 "nbformat": 4,
 "nbformat_minor": 2
}
